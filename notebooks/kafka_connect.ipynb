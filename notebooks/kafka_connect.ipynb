{
 "cells": [
  {
   "cell_type": "code",
   "execution_count": 1,
   "id": "627c4ec3-f3fb-4cd0-9f63-cb9639756cc0",
   "metadata": {},
   "outputs": [
    {
     "name": "stdout",
     "output_type": "stream",
     "text": [
      "Collecting confluent-kafka\n",
      "  Downloading confluent_kafka-1.9.0-cp39-cp39-manylinux2010_x86_64.whl (3.1 MB)\n",
      "\u001b[2K     \u001b[90m━━━━━━━━━━━━━━━━━━━━━━━━━━━━━━━━━━━━━━━━\u001b[0m \u001b[32m3.1/3.1 MB\u001b[0m \u001b[31m1.6 MB/s\u001b[0m eta \u001b[36m0:00:00\u001b[0m00:01\u001b[0m00:01\u001b[0m\n",
      "\u001b[?25hInstalling collected packages: confluent-kafka\n",
      "Successfully installed confluent-kafka-1.9.0\n"
     ]
    }
   ],
   "source": [
    "!pip install confluent-kafka"
   ]
  },
  {
   "cell_type": "markdown",
   "id": "cbdd5448-5cd7-4733-8189-20b536424311",
   "metadata": {},
   "source": [
    "# Create topic "
   ]
  },
  {
   "cell_type": "code",
   "execution_count": 2,
   "id": "d2a7ec26-6ffc-420c-8af8-93e3c85897ea",
   "metadata": {},
   "outputs": [
    {
     "data": {
      "text/plain": [
       "{'postgres.public.dbz_test': <Future at 0x7fbefeb557f0 state=running>}"
      ]
     },
     "execution_count": 2,
     "metadata": {},
     "output_type": "execute_result"
    }
   ],
   "source": [
    "from confluent_kafka.admin import AdminClient, NewTopic\n",
    "\n",
    "\n",
    "admin_client = AdminClient({\n",
    "    \"bootstrap.servers\": \"kafka:9092\"\n",
    "})\n",
    "\n",
    "topic_list = []\n",
    "topic_list.append(NewTopic(\"postgres.public.dbz_test\", 1, 1))\n",
    "admin_client.create_topics(topic_list)"
   ]
  },
  {
   "cell_type": "markdown",
   "id": "9c76fd9b-2bfb-4468-a455-646f034ae1d1",
   "metadata": {},
   "source": [
    "# Postgress connector "
   ]
  },
  {
   "cell_type": "code",
   "execution_count": 3,
   "id": "f78e0eaa-9d88-40d4-9c67-8b54f2ba930e",
   "metadata": {},
   "outputs": [
    {
     "data": {
      "text/plain": [
       "'{\"name\":\"postgres-connector\",\"config\":{\"connector.class\":\"io.debezium.connector.postgresql.PostgresConnector\",\"database.hostname\":\"postgres\",\"database.port\":\"5432\",\"database.user\":\"postgres\",\"database.password\":\"postgres\",\"database.dbname\":\"postgres\",\"database.server.name\":\"postgres\",\"slot.name\":\"debezium\",\"plugin.name\":\"pgoutput\",\"table.include.list\":\"public.dbz_test\",\"name\":\"postgres-connector\"},\"tasks\":[],\"type\":\"source\"}'"
      ]
     },
     "execution_count": 3,
     "metadata": {},
     "output_type": "execute_result"
    }
   ],
   "source": [
    "import requests\n",
    "import json\n",
    "\n",
    "data = {\n",
    "  \"name\": \"postgres-connector\",  \n",
    "  \"config\": {\n",
    "    \"connector.class\": \"io.debezium.connector.postgresql.PostgresConnector\", \n",
    "    \"database.hostname\": \"postgres\", \n",
    "    \"database.port\": \"5432\", \n",
    "    \"database.user\": \"postgres\", \n",
    "    \"database.password\": \"postgres\", \n",
    "    \"database.dbname\" : \"postgres\", \n",
    "    \"database.server.name\": \"postgres\",\n",
    "    \"slot.name\": \"debezium\",\n",
    "    \"plugin.name\": \"pgoutput\",\n",
    "    \"table.include.list\": \"public.dbz_test\"\n",
    "  }\n",
    "}\n",
    "\n",
    "headers = {\n",
    "    \"Content-Type\": \"application/json\"\n",
    "}\n",
    "\n",
    "url=\"http://connect:8083/connectors\"\n",
    "\n",
    "resp = requests.post(url, headers=headers, data=json.dumps(data))\n",
    "\n",
    "resp.text"
   ]
  },
  {
   "cell_type": "markdown",
   "id": "111377fc-5a71-4031-bb1a-16aa77eb057e",
   "metadata": {},
   "source": [
    "# Iceberg sink"
   ]
  },
  {
   "cell_type": "code",
   "execution_count": 4,
   "id": "1ebcf0c9-0748-4f2b-bbf9-1ee50e2c8803",
   "metadata": {},
   "outputs": [
    {
     "data": {
      "text/plain": [
       "'{\"name\":\"iceberg-sink\",\"config\":{\"connector.class\":\"com.getindata.kafka.connect.iceberg.sink.IcebergSink\",\"topics\":\"postgres.public.dbz_test\",\"upsert\":\"true\",\"upsert.keep-deletes\":\"true\",\"table.auto-create\":\"true\",\"table.write-format\":\"parquet\",\"table.namespace\":\"mytable_dbz\",\"table.prefix\":\"debeziumcdc_\",\"iceberg.warehouse\":\"s3a://mybucket\",\"iceberg.fs.defaultFS\":\"s3a://mybucket\",\"iceberg.catalog-name\":\"mycatalog\",\"iceberg.catalog-impl\":\"org.apache.iceberg.hadoop.HadoopCatalog\",\"iceberg.fs.s3a.path.style.access\":\"true\",\"iceberg.fs.s3a.endpoint\":\"http://minio:9000\",\"iceberg.fs.s3a.impl\":\"org.apache.hadoop.fs.s3a.S3AFileSystem\",\"iceberg.fs.s3a.access.key\":\"minioadmin\",\"iceberg.fs.s3a.secret.key\":\"minioadmin\",\"name\":\"iceberg-sink\"},\"tasks\":[],\"type\":\"sink\"}'"
      ]
     },
     "execution_count": 4,
     "metadata": {},
     "output_type": "execute_result"
    }
   ],
   "source": [
    "import requests\n",
    "import json\n",
    "\n",
    "data = {\n",
    "  \"name\": \"iceberg-sink\",\n",
    "  \"config\": {\n",
    "    \"connector.class\": \"com.getindata.kafka.connect.iceberg.sink.IcebergSink\",\n",
    "    \"topics\": \"postgres.public.dbz_test\",\n",
    "\t\n",
    "    \"upsert\": True,\n",
    "    \"upsert.keep-deletes\": True,\n",
    "    \n",
    "    \"table.auto-create\": True,\n",
    "    \"table.write-format\": \"parquet\",\n",
    "    \"table.namespace\": \"mytable_dbz\",\n",
    "    \"table.prefix\": \"debeziumcdc_\",\n",
    "    \n",
    "    \n",
    "    \n",
    "    #AWS (OK)\n",
    "    #\"iceberg.warehouse\": \"s3a://qooba-streaminglabs-eu-west-1/dbz_iceberg/gl_test\",\n",
    "    #\"iceberg.fs.defaultFS\": \"s3a://qooba-streaminglabs-eu-west-1/dbz_iceberg/gl_test\", \n",
    "    #\"iceberg.catalog.type\": \"hadoop\", \n",
    "    #\"iceberg.catalog-name\": \"mycatalog\", \n",
    "    #\"iceberg.catalog-impl\": \"org.apache.iceberg.hadoop.HadoopCatalog\",\n",
    "    #  \n",
    "    #\"iceberg.com.amazonaws.services.s3.enableV4\": True,\n",
    "    #\"iceberg.com.amazonaws.services.s3a.enableV4\": True,\n",
    "    #\"iceberg.fs.s3a.aws.credentials.provider\": \"com.amazonaws.auth.DefaultAWSCredentialsProviderChain\",\n",
    "    #\"iceberg.fs.s3a.path.style.access\": True,\n",
    "    #\"iceberg.fs.s3a.impl\": \"org.apache.hadoop.fs.s3a.S3AFileSystem\",\n",
    "    #  \n",
    "    #\"iceberg.fs.s3a.access.key\": \"***\",\n",
    "    #\"iceberg.fs.s3a.secret.key\": \"***\",\n",
    "      \n",
    "    ###\"iceberg.catalog-impl\": \"org.apache.iceberg.aws.glue.GlueCatalog\",\n",
    "    ###\"iceberg.warehouse\": \"s3a://mybucket/dbz_iceberg/gl_test\",\n",
    "    ###\"iceberg.fs.defaultFS\": \"s3a://mybucket/dbz_iceberg/gl_test\",  \n",
    "      \n",
    "    #MINIO\n",
    "    \"iceberg.warehouse\": \"s3a://mybucket\",\n",
    "    \"iceberg.fs.defaultFS\": \"s3a://mybucket\", \n",
    "    #\"iceberg.type\": \"hadoop\", \n",
    "    \"iceberg.catalog-name\": \"mycatalog\", \n",
    "    \"iceberg.catalog-impl\": \"org.apache.iceberg.hadoop.HadoopCatalog\", \n",
    "      \n",
    "    #\"iceberg.com.amazonaws.services.s3.enableV4\": True,\n",
    "    #\"iceberg.com.amazonaws.services.s3a.enableV4\": True,\n",
    "    #\"iceberg.fs.s3a.aws.credentials.provider\": \"com.amazonaws.auth.DefaultAWSCredentialsProviderChain\",\n",
    "    \"iceberg.fs.s3a.path.style.access\": True,\n",
    "    \"iceberg.fs.s3a.endpoint\": \"http://minio:9000\",\n",
    "    \"iceberg.fs.s3a.impl\": \"org.apache.hadoop.fs.s3a.S3AFileSystem\",\n",
    "    \"iceberg.fs.s3a.access.key\": \"minioadmin\",\n",
    "    \"iceberg.fs.s3a.secret.key\": \"minioadmin\",\n",
    "  }\n",
    "}\n",
    "\n",
    "headers = {\n",
    "    \"Content-Type\": \"application/json\"\n",
    "}\n",
    "\n",
    "url=\"http://connect:8083/connectors\"\n",
    "\n",
    "resp = requests.post(url, headers=headers, data=json.dumps(data))\n",
    "\n",
    "resp.text"
   ]
  },
  {
   "cell_type": "code",
   "execution_count": 76,
   "id": "55a7cedc-b5f0-49af-b0d2-2905c7019d47",
   "metadata": {},
   "outputs": [
    {
     "data": {
      "text/plain": [
       "''"
      ]
     },
     "execution_count": 76,
     "metadata": {},
     "output_type": "execute_result"
    }
   ],
   "source": [
    "import requests \n",
    "\n",
    "resp = requests.delete(\"http://connect:8083/connectors/iceberg-sink\")\n",
    "resp.text"
   ]
  },
  {
   "cell_type": "code",
   "execution_count": null,
   "id": "707b4284-55ec-4566-a356-685e0d9843a6",
   "metadata": {},
   "outputs": [],
   "source": []
  },
  {
   "cell_type": "code",
   "execution_count": 9,
   "id": "9e2c2ea3-2b65-4aa9-baee-50b3ce5b6f9e",
   "metadata": {},
   "outputs": [
    {
     "name": "stdout",
     "output_type": "stream",
     "text": [
      "Message delivered to mytopic [0]\n"
     ]
    },
    {
     "data": {
      "text/plain": [
       "0"
      ]
     },
     "execution_count": 9,
     "metadata": {},
     "output_type": "execute_result"
    }
   ],
   "source": [
    "from confluent_kafka import Producer\n",
    "\n",
    "\n",
    "p = Producer({'bootstrap.servers': 'kafka:9092'})\n",
    "\n",
    "def delivery_report(err, msg):\n",
    "    \"\"\" Called once for each message produced to indicate delivery result.\n",
    "        Triggered by poll() or flush(). \"\"\"\n",
    "    if err is not None:\n",
    "        print('Message delivery failed: {}'.format(err))\n",
    "    else:\n",
    "        print('Message delivered to {} [{}]'.format(msg.topic(), msg.partition()))\n",
    "\n",
    "some_data_source = ['test']\n",
    "        \n",
    "for data in some_data_source:\n",
    "    # Trigger any available delivery report callbacks from previous produce() calls\n",
    "    p.poll(0)\n",
    "\n",
    "    # Asynchronously produce a message, the delivery report callback\n",
    "    # will be triggered from poll() above, or flush() below, when the message has\n",
    "    # been successfully delivered or failed permanently.\n",
    "    p.produce('mytopic', data.encode('utf-8'), callback=delivery_report)\n",
    "\n",
    "# Wait for any outstanding messages to be delivered and delivery report\n",
    "# callbacks to be triggered.\n",
    "p.flush()"
   ]
  }
 ],
 "metadata": {
  "kernelspec": {
   "display_name": "Python 3 (ipykernel)",
   "language": "python",
   "name": "python3"
  },
  "language_info": {
   "codemirror_mode": {
    "name": "ipython",
    "version": 3
   },
   "file_extension": ".py",
   "mimetype": "text/x-python",
   "name": "python",
   "nbconvert_exporter": "python",
   "pygments_lexer": "ipython3",
   "version": "3.9.7"
  }
 },
 "nbformat": 4,
 "nbformat_minor": 5
}
